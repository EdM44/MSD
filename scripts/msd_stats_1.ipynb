{
 "cells": [
  {
   "cell_type": "code",
   "execution_count": 1,
   "metadata": {
    "collapsed": true
   },
   "outputs": [],
   "source": [
    "%matplotlib inline"
   ]
  },
  {
   "cell_type": "code",
   "execution_count": 2,
   "metadata": {
    "collapsed": true
   },
   "outputs": [],
   "source": [
    "import matplotlib.pyplot as plt\n",
    "import sys,os\n",
    "import numpy as np\n",
    "import pandas as pd\n",
    "from scipy import stats"
   ]
  },
  {
   "cell_type": "code",
   "execution_count": 3,
   "metadata": {},
   "outputs": [],
   "source": [
    "def mannwhitney(x,y):\n",
    "    #x,y are data frames of same dimensionality\n",
    "    junk=[]\n",
    "    for row in range(x.shape[0]):\n",
    "        series1=np.array(x.iloc[row])\n",
    "        series2=np.array(y.iloc[row])\n",
    "        z_stat, p_val = stats.mannwhitneyu(series1, series2)\n",
    "        junk.append(p_val*2.0)\n",
    "    #p-value is for a one-sided hypothesis, to get the two-sided p-value multiply the returned p-value by 2.\n",
    "    result=pd.DataFrame(np.array(junk),index=x.index)\n",
    "    return result"
   ]
  },
  {
   "cell_type": "code",
   "execution_count": 4,
   "metadata": {
    "collapsed": true
   },
   "outputs": [],
   "source": [
    "def wilcoxon(x):\n",
    "    #x is data frame of changes (differences)\n",
    "    junk=[]\n",
    "    for row in range(x.shape[0]):\n",
    "        series1=np.array(x.iloc[row])\n",
    "        z_stat, p_val = stats.wilcoxon(series1)\n",
    "        junk.append(p_val)\n",
    "    #returns the two-sided p-value for the test.\n",
    "    result=pd.DataFrame(np.array(junk),index=x.index)\n",
    "    return result"
   ]
  },
  {
   "cell_type": "code",
   "execution_count": 5,
   "metadata": {},
   "outputs": [],
   "source": [
    "gcms =  [ 'gfdl-esm2g','canesm2','cnrm-cm5','csiro-mk3-6-0','inmcm4','miroc5','mpi-esm-lr','mri-cgcm3','ccsm4',\n",
    "         'noresm1-m','bcc-csm1-1','ipsl-cm5a-lr','ipsl-cm5a-mr','gfdl-cm3','gfdl-esm2m' ]\n",
    "#gcms =  [ 'gfdl-esm2g' ]"
   ]
  },
  {
   "cell_type": "code",
   "execution_count": 6,
   "metadata": {
    "collapsed": true
   },
   "outputs": [],
   "source": [
    "scen = 'rcp45'\n",
    "#futperiod='2070-2099'\n",
    "futperiod='2040-2069'\n",
    "v='pr'"
   ]
  },
  {
   "cell_type": "markdown",
   "metadata": {},
   "source": [
    "# dir is location of files like gcm_scen_v_2040-2069_stats.csv. Output also goes here."
   ]
  },
  {
   "cell_type": "markdown",
   "metadata": {},
   "source": [
    "#columns in input files contain data and stats, labeled:\n",
    "                #ID,Lon,Lat,nyears,onset_mx_mn,onset_dy_mn,end_mx_mn,end_dy_mn,min_mn_mn,duration_mn,intensity_mn,onset_mx_sd,onset_dy_sd,end_mx_sd,end_dy_sd,min_mn_sd,duration_sd,intensity_sd"
   ]
  },
  {
   "cell_type": "code",
   "execution_count": 7,
   "metadata": {},
   "outputs": [],
   "source": [
    "#windows requires some different handling of paths with backslashes\n",
    "dir=os.path.normpath(\"X:/projects/nicaragua/msd/timeseries_results\")"
   ]
  },
  {
   "cell_type": "code",
   "execution_count": 8,
   "metadata": {
    "collapsed": true
   },
   "outputs": [],
   "source": [
    "#set up data frames for output - historical for intercomparison with obs, summary changes\n",
    "hist_onset_mx_15=pd.DataFrame(index=range(303))\n",
    "hist_onset_dy_15=pd.DataFrame(index=range(303))\n",
    "hist_min_mn_15=pd.DataFrame(index=range(303))\n",
    "hist_duration_15=pd.DataFrame(index=range(303))\n",
    "hist_intensity_15=pd.DataFrame(index=range(303))\n",
    "hist_end_mx_15=pd.DataFrame(index=range(303))\n",
    "hist_end_dy_15=pd.DataFrame(index=range(303))\n",
    "histmean_all=pd.DataFrame(index=range(303))\n",
    "\n",
    "futchange_onset=pd.DataFrame(index=range(303))\n",
    "futchange_end=pd.DataFrame(index=range(303))\n",
    "futchange_duration=pd.DataFrame(index=range(303))\n",
    "futchange_min=pd.DataFrame(index=range(303))\n",
    "futchange_max1=pd.DataFrame(index=range(303))\n",
    "futchange_max2=pd.DataFrame(index=range(303))\n",
    "futchange_intensity=pd.DataFrame(index=range(303))\n",
    "futchanges_all=pd.DataFrame(index=range(303))"
   ]
  },
  {
   "cell_type": "code",
   "execution_count": 9,
   "metadata": {},
   "outputs": [
    {
     "name": "stdout",
     "output_type": "stream",
     "text": [
      "opening X:\\projects\\nicaragua\\msd\\timeseries_results\\gfdl-esm2g_rcp45_pr_2040-2069_stats.csv\n",
      "opening X:\\projects\\nicaragua\\msd\\timeseries_results\\gfdl-esm2g_historical_pr_1970-1999_stats.csv\n",
      "opening X:\\projects\\nicaragua\\msd\\timeseries_results\\canesm2_rcp45_pr_2040-2069_stats.csv\n",
      "opening X:\\projects\\nicaragua\\msd\\timeseries_results\\canesm2_historical_pr_1970-1999_stats.csv\n",
      "opening X:\\projects\\nicaragua\\msd\\timeseries_results\\cnrm-cm5_rcp45_pr_2040-2069_stats.csv\n",
      "opening X:\\projects\\nicaragua\\msd\\timeseries_results\\cnrm-cm5_historical_pr_1970-1999_stats.csv\n",
      "opening X:\\projects\\nicaragua\\msd\\timeseries_results\\csiro-mk3-6-0_rcp45_pr_2040-2069_stats.csv\n",
      "opening X:\\projects\\nicaragua\\msd\\timeseries_results\\csiro-mk3-6-0_historical_pr_1970-1999_stats.csv\n",
      "opening X:\\projects\\nicaragua\\msd\\timeseries_results\\inmcm4_rcp45_pr_2040-2069_stats.csv\n",
      "opening X:\\projects\\nicaragua\\msd\\timeseries_results\\inmcm4_historical_pr_1970-1999_stats.csv\n",
      "opening X:\\projects\\nicaragua\\msd\\timeseries_results\\miroc5_rcp45_pr_2040-2069_stats.csv\n",
      "opening X:\\projects\\nicaragua\\msd\\timeseries_results\\miroc5_historical_pr_1970-1999_stats.csv\n",
      "opening X:\\projects\\nicaragua\\msd\\timeseries_results\\mpi-esm-lr_rcp45_pr_2040-2069_stats.csv\n",
      "opening X:\\projects\\nicaragua\\msd\\timeseries_results\\mpi-esm-lr_historical_pr_1970-1999_stats.csv\n",
      "opening X:\\projects\\nicaragua\\msd\\timeseries_results\\mri-cgcm3_rcp45_pr_2040-2069_stats.csv\n",
      "opening X:\\projects\\nicaragua\\msd\\timeseries_results\\mri-cgcm3_historical_pr_1970-1999_stats.csv\n",
      "opening X:\\projects\\nicaragua\\msd\\timeseries_results\\ccsm4_rcp45_pr_2040-2069_stats.csv\n",
      "opening X:\\projects\\nicaragua\\msd\\timeseries_results\\ccsm4_historical_pr_1970-1999_stats.csv\n",
      "opening X:\\projects\\nicaragua\\msd\\timeseries_results\\noresm1-m_rcp45_pr_2040-2069_stats.csv\n",
      "opening X:\\projects\\nicaragua\\msd\\timeseries_results\\noresm1-m_historical_pr_1970-1999_stats.csv\n",
      "opening X:\\projects\\nicaragua\\msd\\timeseries_results\\bcc-csm1-1_rcp45_pr_2040-2069_stats.csv\n",
      "opening X:\\projects\\nicaragua\\msd\\timeseries_results\\bcc-csm1-1_historical_pr_1970-1999_stats.csv\n",
      "opening X:\\projects\\nicaragua\\msd\\timeseries_results\\ipsl-cm5a-lr_rcp45_pr_2040-2069_stats.csv\n",
      "opening X:\\projects\\nicaragua\\msd\\timeseries_results\\ipsl-cm5a-lr_historical_pr_1970-1999_stats.csv\n",
      "opening X:\\projects\\nicaragua\\msd\\timeseries_results\\ipsl-cm5a-mr_rcp45_pr_2040-2069_stats.csv\n",
      "opening X:\\projects\\nicaragua\\msd\\timeseries_results\\ipsl-cm5a-mr_historical_pr_1970-1999_stats.csv\n",
      "opening X:\\projects\\nicaragua\\msd\\timeseries_results\\gfdl-cm3_rcp45_pr_2040-2069_stats.csv\n",
      "opening X:\\projects\\nicaragua\\msd\\timeseries_results\\gfdl-cm3_historical_pr_1970-1999_stats.csv\n",
      "opening X:\\projects\\nicaragua\\msd\\timeseries_results\\gfdl-esm2m_rcp45_pr_2040-2069_stats.csv\n",
      "opening X:\\projects\\nicaragua\\msd\\timeseries_results\\gfdl-esm2m_historical_pr_1970-1999_stats.csv\n"
     ]
    }
   ],
   "source": [
    "for gcm in gcms:\n",
    "    #read in historical and future files - one row per cell, one col per year\n",
    "    inf_fut=\"%s\\%s_%s_%s_%s_stats.csv\" % (dir,gcm,scen,v,futperiod)\n",
    "    print 'opening ' + inf_fut\n",
    "    df_fut = pd.read_csv(inf_fut)\n",
    "    inf_his=\"%s\\%s_%s_%s_%s_stats.csv\" % (dir,gcm,'historical',v,'1970-1999')\n",
    "    print 'opening ' + inf_his\n",
    "    df_his = pd.read_csv(inf_his)\n",
    "    \n",
    "    #get cell, lon, lat from first file\n",
    "    if gcm == gcms[0]:\n",
    "        cellinfo=df_his[['ID','Lon','Lat']]\n",
    "    \n",
    "    #concatenate statistics to new data frames. \n",
    "    dur=df_his['end_dy_mn']-df_his['onset_dy_mn']\n",
    "    durfut=df_fut['end_dy_mn']-df_fut['onset_dy_mn']\n",
    "    intens=((df_his['end_mx_mn']+df_his['onset_mx_mn'])/2.0)-df_his['min_mn_mn']\n",
    "    intensfut=((df_fut['end_mx_mn']+df_fut['onset_mx_mn'])/2.0)-df_fut['min_mn_mn']\n",
    "    hist_onset_mx_15=pd.concat([hist_onset_mx_15,df_his['onset_mx_mn']],axis=1,join_axes=[hist_onset_mx_15.index])\n",
    "    hist_onset_dy_15=pd.concat([hist_onset_dy_15,df_his['onset_dy_mn']],axis=1,join_axes=[hist_onset_dy_15.index])\n",
    "    hist_end_mx_15=pd.concat([hist_end_mx_15,df_his['end_mx_mn']],axis=1,join_axes=[hist_end_mx_15.index])\n",
    "    hist_end_dy_15=pd.concat([hist_end_dy_15,df_his['end_dy_mn']],axis=1,join_axes=[hist_end_dy_15.index])\n",
    "    hist_min_mn_15=pd.concat([hist_min_mn_15,df_his['min_mn_mn']],axis=1,join_axes=[hist_min_mn_15.index])\n",
    "    hist_duration_15=pd.concat([hist_duration_15,dur],axis=1,join_axes=[hist_duration_15.index])\n",
    "    hist_intensity_15=pd.concat([hist_intensity_15,intens],axis=1,join_axes=[hist_intensity_15.index])\n",
    "    futchange_onset=pd.concat([futchange_onset,df_fut['onset_dy_mn']-df_his['onset_dy_mn']],axis=1,join_axes=[futchange_onset.index])\n",
    "    futchange_end=pd.concat([futchange_end,df_fut['end_dy_mn']-df_his['end_dy_mn']],axis=1,join_axes=[futchange_end.index])\n",
    "    futchange_duration=pd.concat([futchange_duration,durfut-dur],axis=1,join_axes=[futchange_duration.index])\n",
    "    futchange_intensity=pd.concat([futchange_intensity,intensfut-intens],axis=1,join_axes=[futchange_intensity.index])\n",
    "    futchange_min=pd.concat([futchange_min,df_fut['min_mn_mn']-df_his['min_mn_mn']],axis=1,join_axes=[futchange_min.index])"
   ]
  },
  {
   "cell_type": "code",
   "execution_count": 10,
   "metadata": {},
   "outputs": [],
   "source": [
    "#produce mean historical values from all 15 GCMs, write output\n",
    "histmean_all['onset_dy']=hist_onset_dy_15.mean(axis=1)\n",
    "histmean_all['end_dy']=hist_end_dy_15.mean(axis=1)\n",
    "histmean_all['duration']=hist_duration_15.mean(axis=1)\n",
    "histmean_all['intensity']=hist_intensity_15.mean(axis=1)\n",
    "histmean_all['min']=hist_min_mn_15.mean(axis=1)\n",
    "histmean_all=pd.concat([cellinfo,histmean_all],axis=1,join_axes=[histmean_all.index])\n",
    "fname=\"%s\\%s_%s_%s_stats.csv\" % (dir,'allgcms_mean','historical','1970-1999')\n",
    "histmean_all.to_csv(fname, index=False, float_format='%.4f')"
   ]
  },
  {
   "cell_type": "code",
   "execution_count": 11,
   "metadata": {
    "scrolled": true
   },
   "outputs": [],
   "source": [
    "#add columns names/locations and write out results for GCMs for historical period\n",
    "hist_onset_mx_15.columns=[gcms]\n",
    "hist_onset_mx_15=pd.concat([cellinfo,hist_onset_mx_15],axis=1,join_axes=[hist_onset_mx_15.index])\n",
    "fname=\"%s\\%s_%s_%s_%s_stats.csv\" % (dir,'allgcms','historical','onset_mx','1970-1999')\n",
    "hist_onset_mx_15.to_csv(fname, index=False, float_format='%.4f')\n",
    "hist_duration_15.columns=[gcms]\n",
    "hist_duration_15=pd.concat([cellinfo,hist_duration_15],axis=1,join_axes=[hist_duration_15.index])\n",
    "fname=\"%s\\%s_%s_%s_%s_stats.csv\" % (dir,'allgcms','historical','duration','1970-1999')\n",
    "hist_duration_15.to_csv(fname, index=False, float_format='%.4f')\n",
    "hist_intensity_15.columns=[gcms]\n",
    "hist_intensity_15=pd.concat([cellinfo,hist_intensity_15],axis=1,join_axes=[hist_intensity_15.index])\n",
    "fname=\"%s\\%s_%s_%s_%s_stats.csv\" % (dir,'allgcms','historical','intensity','1970-1999')\n",
    "hist_intensity_15.to_csv(fname, index=False, float_format='%.4f')\n",
    "hist_min_mn_15.columns=[gcms]\n",
    "hist_min_mn_15=pd.concat([cellinfo,hist_min_mn_15],axis=1,join_axes=[hist_min_mn_15.index])\n",
    "fname=\"%s\\%s_%s_%s_%s_stats.csv\" % (dir,'allgcms','historical','min_mn','1970-1999')\n",
    "hist_min_mn_15.to_csv(fname, index=False, float_format='%.4f')"
   ]
  },
  {
   "cell_type": "code",
   "execution_count": 12,
   "metadata": {},
   "outputs": [],
   "source": [
    "#calc p-values for projected changes\n",
    "#write summary output of changes: mean and p-values only. Add cell info\n",
    "futchanges_all['onset_dy']=futchange_onset.mean(axis=1)\n",
    "futchanges_all['p-onset_dy']=wilcoxon(futchange_onset)\n",
    "futchanges_all['end_dy']=futchange_end.mean(axis=1)\n",
    "futchanges_all['p-end_dy']=wilcoxon(futchange_end)\n",
    "futchanges_all['duration']=futchange_duration.mean(axis=1)\n",
    "futchanges_all['p-duration']=wilcoxon(futchange_duration)\n",
    "futchanges_all['intensity']=futchange_intensity.mean(axis=1)\n",
    "futchanges_all['p-intensity']=wilcoxon(futchange_intensity)\n",
    "futchanges_all['min']=futchange_min.mean(axis=1)\n",
    "futchanges_all['p-min']=wilcoxon(futchange_min)\n",
    "\n",
    "futchanges_all=pd.concat([cellinfo,futchanges_all],axis=1,join_axes=[futchanges_all.index])\n",
    "fname=\"%s\\%s_%s_%s_%s_stats.csv\" % (dir,'allgcms',scen,'meanchange',futperiod)\n",
    "futchanges_all.to_csv(fname, index=False, float_format='%.4f')"
   ]
  },
  {
   "cell_type": "code",
   "execution_count": null,
   "metadata": {
    "collapsed": true
   },
   "outputs": [],
   "source": []
  }
 ],
 "metadata": {
  "anaconda-cloud": {},
  "kernelspec": {
   "display_name": "Python 2",
   "language": "python",
   "name": "python2"
  },
  "language_info": {
   "codemirror_mode": {
    "name": "ipython",
    "version": 2
   },
   "file_extension": ".py",
   "mimetype": "text/x-python",
   "name": "python",
   "nbconvert_exporter": "python",
   "pygments_lexer": "ipython2",
   "version": "2.7.15"
  }
 },
 "nbformat": 4,
 "nbformat_minor": 1
}
